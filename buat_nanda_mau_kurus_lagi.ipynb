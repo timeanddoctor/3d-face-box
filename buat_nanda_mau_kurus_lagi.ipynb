{
  "nbformat": 4,
  "nbformat_minor": 0,
  "metadata": {
    "colab": {
      "name": "buat_nanda_mau_kurus_lagi.ipynb",
      "provenance": [],
      "collapsed_sections": [],
      "authorship_tag": "ABX9TyPT32HVZbJnZze2SiCekWLS",
      "include_colab_link": true
    },
    "kernelspec": {
      "name": "python3",
      "display_name": "Python 3"
    }
  },
  "cells": [
    {
      "cell_type": "markdown",
      "metadata": {
        "id": "view-in-github",
        "colab_type": "text"
      },
      "source": [
        "<a href=\"https://colab.research.google.com/github/vindruid/3d-face-box/blob/master/buat_nanda_mau_kurus_lagi.ipynb\" target=\"_parent\"><img src=\"https://colab.research.google.com/assets/colab-badge.svg\" alt=\"Open In Colab\"/></a>"
      ]
    },
    {
      "cell_type": "code",
      "metadata": {
        "id": "1MLCmG6gLHxd",
        "colab_type": "code",
        "colab": {}
      },
      "source": [
        "# Change here, fill with your google drive folder structure\n",
        "import os\n",
        "\n",
        "folder_ori    = os.path.join(\"nanda\", \"Asli\")\n",
        "folder_rm     = os.path.join(\"nanda\", \"Remove\")\n",
        "folder_result = os.path.join(\"nanda\", \"result\")"
      ],
      "execution_count": 0,
      "outputs": []
    },
    {
      "cell_type": "code",
      "metadata": {
        "id": "NsC16EO6kbKc",
        "colab_type": "code",
        "colab": {}
      },
      "source": [
        "import numpy as np\n",
        "\n",
        "import cv2\n",
        "\n",
        "import matplotlib.pyplot as plt\n",
        "from tqdm import tqdm\n",
        "\n",
        "from google.colab import drive\n",
        "\n",
        "\n",
        "path_drive = os.path.join(\"drive\", \"My Drive\")\n",
        "\n",
        "drive.mount('/content/drive')\n"
      ],
      "execution_count": 0,
      "outputs": []
    },
    {
      "cell_type": "code",
      "metadata": {
        "id": "oQPs_vYXtm_K",
        "colab_type": "code",
        "colab": {}
      },
      "source": [
        "def resize_transparant(path_image_ori, path_image_rm):\n",
        "\n",
        "  ori = cv2.imread(path_image_ori)\n",
        "  ori = cv2.cvtColor(ori, cv2.COLOR_BGR2BGRA)\n",
        "  H_ori, W_ori = ori.shape[:2]\n",
        "  potrait_ori = H_ori > W_ori # H > W\n",
        "\n",
        "  removed = cv2.imread(path_image_rm, cv2.IMREAD_UNCHANGED)\n",
        "  H_rm, W_rm = removed.shape[:2]\n",
        "  potrait = H_rm > W_rm # H > W\n",
        "  \n",
        "  if not potrait == potrait_ori: # one potrait, one landscape\n",
        "    ori = cv2.rotate(ori, cv2.ROTATE_90_CLOCKWISE)\n",
        "    H_ori, W_ori = ori.shape[:2]\n",
        "\n",
        "  resized = cv2.resize(removed, (W_ori, H_ori), interpolation = cv2.INTER_AREA) #w,h\n",
        "\n",
        "  ori_removed = ori.copy()\n",
        "  ori_removed[:,:,3] = resized[:,:,3]\n",
        "\n",
        "  return ori_removed\n",
        "\n",
        "# Define paths\n",
        "path_ori = os.path.join(path_drive, folder_ori)\n",
        "path_rm = os.path.join(path_drive, folder_rm)\n",
        "path_result = os.path.join(path_drive, folder_result)\n",
        "if not os.path.exists(path_result):\n",
        "  os.mkdir(path_result)\n",
        "  \n",
        "# PROCESS the photos \n",
        "list_filename_ori = sorted(os.listdir(path_ori))\n",
        "for filename_ori in tqdm(list_filename_ori):\n",
        "  file_id = filename_ori.split('.')[0]\n",
        "  filename_rm = f'{file_id}-removebg-preview.png'\n",
        "  filename_res = f'{file_id}_result.png'\n",
        "\n",
        "  path_image_ori = os.path.join(path_ori, filename_ori)\n",
        "  path_image_rm  = os.path.join(path_rm, filename_rm)\n",
        "  path_image_res = os.path.join(path_result, filename_res)\n",
        "\n",
        "  if not os.path.exists(path_image_rm): \n",
        "    print(f\"{filename_rm} IS NOT FOUND\")\n",
        "    continue\n",
        "\n",
        "  ori_removed = resize_transparant(path_image_ori, path_image_rm)\n",
        "\n",
        "  cv2.imwrite(path_image_res, ori_removed)"
      ],
      "execution_count": 0,
      "outputs": []
    },
    {
      "cell_type": "code",
      "metadata": {
        "id": "WyDyE9eZ8Lya",
        "colab_type": "code",
        "colab": {}
      },
      "source": [
        ""
      ],
      "execution_count": 0,
      "outputs": []
    }
  ]
}